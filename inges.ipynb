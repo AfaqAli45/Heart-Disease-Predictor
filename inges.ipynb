{
 "cells": [
  {
   "cell_type": "code",
   "execution_count": null,
   "id": "5b66d0a8-79aa-42b2-b22f-e056ee625a84",
   "metadata": {},
   "outputs": [],
   "source": [
    "import pandas as pd\n",
    "from logger.logger import log_info\n",
    "from exception.exception import CustomException\n",
    "\n",
    "class DataIngestion:\n",
    "    def __init__(self, file_path1):\n",
    "        self.file_path1 = file_path1\n",
    "       \n",
    "\n",
    "    def load_data(self):\n",
    "        try:\n",
    "            log_info(\"Loading dataset 1\")\n",
    "            dataset_1 = pd.read_csv(self.file_path1)\n",
    "            log_info(\"Dataset 1 loaded successfully\")\n",
    "\n",
    "           \n",
    "\n",
    "            log_info(\"Concatenating datasets\")\n",
    "            X = dataset_1[[\"age\", \"cholestrol(serum)\", \"maximum_heartrate_achieved\"]]\n",
    "            Y = dataset_1[\"targeted_output\"]\n",
    "          \n",
    "\n",
    "\n",
    "            return X, Y\n",
    "\n",
    "        except Exception as e:\n",
    "            log_info(f\"Error occurred: {e}\")\n",
    "            raise CustomException(f\"Error in data ingestion: {e}\")"
   ]
  }
 ],
 "metadata": {
  "kernelspec": {
   "display_name": "Python 3 (ipykernel)",
   "language": "python",
   "name": "python3"
  },
  "language_info": {
   "codemirror_mode": {
    "name": "ipython",
    "version": 3
   },
   "file_extension": ".py",
   "mimetype": "text/x-python",
   "name": "python",
   "nbconvert_exporter": "python",
   "pygments_lexer": "ipython3",
   "version": "3.11.9"
  }
 },
 "nbformat": 4,
 "nbformat_minor": 5
}
