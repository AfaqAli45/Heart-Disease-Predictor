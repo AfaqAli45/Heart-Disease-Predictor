{
 "cells": [
  {
   "cell_type": "code",
   "execution_count": null,
   "id": "7ab01efc-3c1d-4f03-92b1-36834ecedce8",
   "metadata": {},
   "outputs": [],
   "source": [
    "from inges import  DataIngestion\n",
    "from Trainer import Trainer\n",
    "from Validator import Evaluation\n",
    "\n",
    "if __name__ == \"__main__\":\n",
    "    try:\n",
    " # Data Ingestion\n",
    "        data_ingestion = DataIngestion(\n",
    "            file_path1=\"heart.csv\"\n",
    "        )\n",
    "        X_train,X_test,Y_train,Y_test = data_ingestion.load_data()\n",
    "\n",
    " # Model Training\n",
    "        trainer = Trainer(X_train, Y_train)\n",
    "        DS_Classifier = trainer.train_model()\n",
    "\n",
    " # ------------------------------------------------------------------------------------------------------------------------------------\n",
    "        # Model Evaluation\n",
    "        evaluator = Evaluation(model, X_test, Y_test)\n",
    "        evaluation_results = evaluator.evaluate_model()\n",
    "    \n",
    " # Extracting the returned values\n",
    "        accuracy = evaluation_results[\"accuracy\"]\n",
    "        precision = evaluation_results[\"precision\"]\n",
    "        recall = evaluation_results[\"recall\"]\n",
    "        f1_score = evaluation_results[\"f1_score\"]\n",
    "        confusion_matrix = evaluation_results[\"confusion_matrix\"]\n",
    "        classification_report = evaluation_results[\"classification_report\"]\n",
    "\n",
    " # Print or log the results if needed\n",
    "        print(f\"Accuracy: {accuracy}\")\n",
    "        print(f\"Precision: {precision}\")\n",
    "        print(f\"Recall: {recall}\")\n",
    "        print(f\"F1 Score: {f1_score}\")\n",
    "        print(f\"Confusion Matrix:\\n{confusion_matrix}\")\n",
    "        print(f\"Classification Report:\\n{classification_report}\")\n",
    "\n",
    "        \n",
    "\n",
    "    except Exception as e:\n",
    "        print(f\"Error occurred: {e}\")"
   ]
  }
 ],
 "metadata": {
  "kernelspec": {
   "display_name": "Python 3 (ipykernel)",
   "language": "python",
   "name": "python3"
  },
  "language_info": {
   "codemirror_mode": {
    "name": "ipython",
    "version": 3
   },
   "file_extension": ".py",
   "mimetype": "text/x-python",
   "name": "python",
   "nbconvert_exporter": "python",
   "pygments_lexer": "ipython3",
   "version": "3.11.9"
  }
 },
 "nbformat": 4,
 "nbformat_minor": 5
}
