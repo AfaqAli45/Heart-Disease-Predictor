{
 "cells": [
  {
   "cell_type": "code",
   "execution_count": null,
   "id": "1ad8b81e-c7d7-45a6-aca7-8ea31c6ea03b",
   "metadata": {},
   "outputs": [],
   "source": []
  }
 ],
 "metadata": {
  "kernelspec": {
   "display_name": "",
   "name": ""
  },
  "language_info": {
   "name": ""
  }
 },
 "nbformat": 4,
 "nbformat_minor": 5
}
