{
 "cells": [
  {
   "cell_type": "code",
   "execution_count": null,
   "id": "1ad8b81e-c7d7-45a6-aca7-8ea31c6ea03b",
   "metadata": {},
   "outputs": [],
   "source": [
    "from sklearn.tree import DecisionTreeClassifier\n",
    "from logger.logger import log_info\n",
    "from exception.exception import CustomException\n",
    "\n",
    "class Trainer:\n",
    "    def __init__(self, X_train, Y_train):\n",
    "        self.X = X_train\n",
    "        self.Y = Y_train\n",
    "\n",
    "    def train_model(self):\n",
    "        try:\n",
    "            log_info(\"Training Decision Tree Classifier\")\n",
    "            DT_Classifier = DecisionTreeClassifier(*, criterion='gini', splitter='best', max_depth=8, min_samples_split=15, min_samples_leaf=5, min_weight_fraction_leaf=0.0, max_features=None, random_state=None, max_leaf_nodes=8, min_impurity_decrease=0.1, class_weight=None, ccp_alpha=0.5, monotonic_cst=0)\n",
    "            DT_Classifier.fit(self.X, self.Y)\n",
    "            log_info(\"[Decision Tree Classifier] --> trained successfully\")\n",
    "            return DT_Classifier\n",
    "\n",
    "        except Exception as e:\n",
    "            log_info(f\"Error occurred: {e}\")\n",
    "            raise CustomException(f\"Error occure in model training: {e}\")"
   ]
  }
 ],
 "metadata": {
  "kernelspec": {
   "display_name": "Python 3 (ipykernel)",
   "language": "python",
   "name": "python3"
  },
  "language_info": {
   "codemirror_mode": {
    "name": "ipython",
    "version": 3
   },
   "file_extension": ".py",
   "mimetype": "text/x-python",
   "name": "python",
   "nbconvert_exporter": "python",
   "pygments_lexer": "ipython3",
   "version": "3.11.9"
  }
 },
 "nbformat": 4,
 "nbformat_minor": 5
}
