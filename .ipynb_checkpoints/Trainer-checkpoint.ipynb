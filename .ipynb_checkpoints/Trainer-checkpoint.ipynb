{
 "cells": [
  {
   "cell_type": "code",
   "execution_count": null,
   "id": "1ad8b81e-c7d7-45a6-aca7-8ea31c6ea03b",
   "metadata": {},
   "outputs": [],
   "source": [
    "from sklearn.tree import DecisionTreeClassifier\n",
    "from logger.logger import log_info\n",
    "from exception.exception import CustomException\n",
    "\n",
    "class Trainer:\n",
    "    def __init__(self, X, Y):\n",
    "        self.X = X\n",
    "        self.Y = Y\n",
    "\n",
    "    def train_model(self):\n",
    "        try:\n",
    "            log_info(\"Training Decision Tree Classifier\")\n",
    "            model = DecisionTreeClassifier()\n",
    "            model.fit(self.X, self.Y)\n",
    "            log_info(\"Model trained successfully\")\n",
    "            return model\n",
    "\n",
    "        except Exception as e:\n",
    "            log_info(f\"Error occurred: {e}\")\n",
    "            raise CustomException(f\"Error in model training: {e}\")"
   ]
  }
 ],
 "metadata": {
  "kernelspec": {
   "display_name": "Python 3 (ipykernel)",
   "language": "python",
   "name": "python3"
  },
  "language_info": {
   "codemirror_mode": {
    "name": "ipython",
    "version": 3
   },
   "file_extension": ".py",
   "mimetype": "text/x-python",
   "name": "python",
   "nbconvert_exporter": "python",
   "pygments_lexer": "ipython3",
   "version": "3.11.9"
  }
 },
 "nbformat": 4,
 "nbformat_minor": 5
}
