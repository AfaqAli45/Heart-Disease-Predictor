{
 "cells": [
  {
   "cell_type": "code",
   "execution_count": null,
   "id": "2a0da18c-d1c6-45b4-89fe-9e50f67c8e50",
   "metadata": {},
   "outputs": [],
   "source": [
    "from sklearn.metrics import accuracy_score\n",
    "from logger.logger import log_info\n",
    "from exception.exception import CustomException\n",
    "\n",
    "class Evaluation:\n",
    "    def __init__(self, model, X, Y):\n",
    "        self.model = model\n",
    "        self.X = X\n",
    "        self.Y = Y\n",
    "\n",
    "    def evaluate_model(self):\n",
    "        try:\n",
    "            log_info(\"Evaluating model\")\n",
    "            Y_pred = self.model.predict(self.X)\n",
    "            accuracy = accuracy_score(self.Y, Y_pred)\n",
    "            log_info(f\"Model accuracy: {accuracy}\")\n",
    "            return accuracy\n",
    "\n",
    "        except Exception as e:\n",
    "            log_info(f\"Error occurred: {e}\")\n",
    "            raise CustomException(f\"Error in model evaluation: {e}\")"
   ]
  }
 ],
 "metadata": {
  "kernelspec": {
   "display_name": "Python 3 (ipykernel)",
   "language": "python",
   "name": "python3"
  },
  "language_info": {
   "codemirror_mode": {
    "name": "ipython",
    "version": 3
   },
   "file_extension": ".py",
   "mimetype": "text/x-python",
   "name": "python",
   "nbconvert_exporter": "python",
   "pygments_lexer": "ipython3",
   "version": "3.11.9"
  }
 },
 "nbformat": 4,
 "nbformat_minor": 5
}
