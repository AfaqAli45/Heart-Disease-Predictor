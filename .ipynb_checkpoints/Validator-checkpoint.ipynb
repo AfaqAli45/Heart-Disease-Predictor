{
 "cells": [
  {
   "cell_type": "code",
   "execution_count": null,
   "id": "2a0da18c-d1c6-45b4-89fe-9e50f67c8e50",
   "metadata": {},
   "outputs": [],
   "source": [
    "from sklearn.metrics import accuracy_score, precision_score, recall_score, f1_score, confusion_matrix, classification_report\n",
    "from logger.logger import log_info\n",
    "from exception.exception import CustomException\n",
    "\n",
    "class Evaluation:\n",
    "    def __init__(self, model, X_test, Y_test):\n",
    "        self.model = model\n",
    "        self.X = X_test\n",
    "        self.Y = Y_test\n",
    "\n",
    "    def evaluate_model(self):\n",
    "        try:\n",
    "            log_info(\"Evaluating model...\")\n",
    "            Y_pred = self.model.predict(self.X)\n",
    "\n",
    "            # Compute evaluation metrics\n",
    "            accuracy = accuracy_score(self.Y, Y_pred)\n",
    "            precision = precision_score(self.Y, Y_pred, average='weighted')\n",
    "            recall = recall_score(self.Y, Y_pred, average='weighted')\n",
    "            f1 = f1_score(self.Y, Y_pred, average='weighted')\n",
    "            conf_matrix = confusion_matrix(self.Y, Y_pred)\n",
    "            class_report = classification_report(self.Y, Y_pred)\n",
    "\n",
    "            # Log evaluation results\n",
    "            log_info(f\"Model Accuracy: {accuracy}\")\n",
    "            log_info(f\"Precision: {precision}\")\n",
    "            log_info(f\"Recall: {recall}\")\n",
    "            log_info(f\"F1 Score: {f1}\")\n",
    "            log_info(f\"Confusion Matrix:\\n{conf_matrix}\")\n",
    "            log_info(f\"Classification Report:\\n{class_report}\")\n",
    "\n",
    "            return {\n",
    "                \"accuracy\": accuracy,\n",
    "                \"precision\": precision,\n",
    "                \"recall\": recall,\n",
    "                \"f1_score\": f1,\n",
    "                \"confusion_matrix\": conf_matrix,\n",
    "                \"classification_report\": class_report\n",
    "            }\n",
    "\n",
    "        except Exception as e:\n",
    "            log_info(f\"Error occurred during evaluation: {e}\")\n",
    "            raise CustomException(f\"Error in model evaluation: {e}\")\n"
   ]
  }
 ],
 "metadata": {
  "kernelspec": {
   "display_name": "Python 3 (ipykernel)",
   "language": "python",
   "name": "python3"
  },
  "language_info": {
   "codemirror_mode": {
    "name": "ipython",
    "version": 3
   },
   "file_extension": ".py",
   "mimetype": "text/x-python",
   "name": "python",
   "nbconvert_exporter": "python",
   "pygments_lexer": "ipython3",
   "version": "3.11.9"
  }
 },
 "nbformat": 4,
 "nbformat_minor": 5
}
