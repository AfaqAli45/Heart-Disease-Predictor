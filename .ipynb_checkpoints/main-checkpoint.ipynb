{
 "cells": [
  {
   "cell_type": "code",
   "execution_count": null,
   "id": "7ab01efc-3c1d-4f03-92b1-36834ecedce8",
   "metadata": {},
   "outputs": [],
   "source": [
    "from data_ingestion import DataIngestion\n",
    "from trainer import Trainer\n",
    "from evaluation import Evaluation\n",
    "\n",
    "if __name__ == \"__main__\":\n",
    "    try:\n",
    "        # Data Ingestion\n",
    "        data_ingestion = DataIngestion(\n",
    "            file_path1=\"data/heart_age_bw_29_to_45.csv\"\n",
    "        )\n",
    "        X, Y = data_ingestion.load_data()\n",
    "\n",
    "        # Model Training\n",
    "        trainer = Trainer(X, Y)\n",
    "        model = trainer.train_model()\n",
    "\n",
    "        # Model Evaluation\n",
    "        evaluator = Evaluation(model, X, Y)\n",
    "        accuracy = evaluator.evaluate_model()\n",
    "\n",
    "        print(f\"Model Accuracy: {accuracy}\")\n",
    "\n",
    "    except Exception as e:\n",
    "        print(f\"Error occurred: {e}\")"
   ]
  }
 ],
 "metadata": {
  "kernelspec": {
   "display_name": "Python 3 (ipykernel)",
   "language": "python",
   "name": "python3"
  },
  "language_info": {
   "codemirror_mode": {
    "name": "ipython",
    "version": 3
   },
   "file_extension": ".py",
   "mimetype": "text/x-python",
   "name": "python",
   "nbconvert_exporter": "python",
   "pygments_lexer": "ipython3",
   "version": "3.11.9"
  }
 },
 "nbformat": 4,
 "nbformat_minor": 5
}
