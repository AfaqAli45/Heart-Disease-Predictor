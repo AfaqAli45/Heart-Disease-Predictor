{
 "cells": [
  {
   "cell_type": "code",
   "execution_count": 1,
   "id": "66a0842a-800e-4e1f-b38a-0b826aa3e25b",
   "metadata": {},
   "outputs": [
    {
     "ename": "SyntaxError",
     "evalue": "invalid syntax (2328807610.py, line 1)",
     "output_type": "error",
     "traceback": [
      "  \u001b[36mCell\u001b[39m\u001b[36m \u001b[39m\u001b[32mIn[1]\u001b[39m\u001b[32m, line 1\u001b[39m\n\u001b[31m    \u001b[39m\u001b[31mgit inti\u001b[39m\n        ^\n\u001b[31mSyntaxError\u001b[39m\u001b[31m:\u001b[39m invalid syntax\n"
     ]
    }
   ],
   "source": [
    "git inti"
   ]
  },
  {
   "cell_type": "code",
   "execution_count": 7,
   "id": "4da0759e-de99-4df6-80ce-edc5ea5d1297",
   "metadata": {},
   "outputs": [
    {
     "name": "stdout",
     "output_type": "stream",
     "text": [
      "Reinitialized existing Git repository in D:/MACHINE_LEARNING_ALGORITHM/Projects of Machine Learnign/Heart Disease With MLOPS/.git/\n"
     ]
    }
   ],
   "source": [
    "!git init"
   ]
  },
  {
   "cell_type": "code",
   "execution_count": 3,
   "id": "21e55c04-835c-4a33-a149-933117d96fa9",
   "metadata": {},
   "outputs": [
    {
     "name": "stderr",
     "output_type": "stream",
     "text": [
      "warning: in the working copy of '.ipynb_checkpoints/Init-checkpoint.ipynb', LF will be replaced by CRLF the next time Git touches it\n",
      "warning: in the working copy of '.ipynb_checkpoints/Trainer-checkpoint.ipynb', LF will be replaced by CRLF the next time Git touches it\n",
      "warning: in the working copy of '.ipynb_checkpoints/Validator-checkpoint.ipynb', LF will be replaced by CRLF the next time Git touches it\n",
      "warning: in the working copy of '.ipynb_checkpoints/inges-checkpoint.ipynb', LF will be replaced by CRLF the next time Git touches it\n",
      "warning: in the working copy of 'Exception/.ipynb_checkpoints/Exception-checkpoint.ipynb', LF will be replaced by CRLF the next time Git touches it\n",
      "warning: in the working copy of 'Exception/Exception.ipynb', LF will be replaced by CRLF the next time Git touches it\n",
      "error: 'Heart-Disease-Predictor/' does not have a commit checked out\n",
      "fatal: adding files failed\n"
     ]
    }
   ],
   "source": [
    "!git add ."
   ]
  },
  {
   "cell_type": "code",
   "execution_count": 8,
   "id": "180a705a-7834-46f2-a3fc-9fa2f0aee9cc",
   "metadata": {},
   "outputs": [
    {
     "name": "stdout",
     "output_type": "stream",
     "text": [
      "On branch master\n",
      "\n",
      "No commits yet\n",
      "\n",
      "Untracked files:\n",
      "  (use \"git add <file>...\" to include in what will be committed)\n",
      "\t.ipynb_checkpoints/\n",
      "\tException/\n",
      "\tInit.ipynb\n",
      "\tLogger/\n",
      "\tTrainer.ipynb\n",
      "\tValidator.ipynb\n",
      "\theart.csv\n",
      "\tinges.ipynb\n",
      "\n",
      "nothing added to commit but untracked files present (use \"git add\" to track)\n"
     ]
    }
   ],
   "source": [
    "!git status"
   ]
  },
  {
   "cell_type": "code",
   "execution_count": 9,
   "id": "0a3581cd-5fcc-4fdd-9910-0afe6889da10",
   "metadata": {},
   "outputs": [
    {
     "name": "stderr",
     "output_type": "stream",
     "text": [
      "warning: in the working copy of '.ipynb_checkpoints/Init-checkpoint.ipynb', LF will be replaced by CRLF the next time Git touches it\n",
      "warning: in the working copy of '.ipynb_checkpoints/Trainer-checkpoint.ipynb', LF will be replaced by CRLF the next time Git touches it\n",
      "warning: in the working copy of '.ipynb_checkpoints/Validator-checkpoint.ipynb', LF will be replaced by CRLF the next time Git touches it\n",
      "warning: in the working copy of '.ipynb_checkpoints/inges-checkpoint.ipynb', LF will be replaced by CRLF the next time Git touches it\n",
      "warning: in the working copy of 'Exception/.ipynb_checkpoints/Exception-checkpoint.ipynb', LF will be replaced by CRLF the next time Git touches it\n",
      "warning: in the working copy of 'Exception/Exception.ipynb', LF will be replaced by CRLF the next time Git touches it\n",
      "warning: in the working copy of 'Init.ipynb', LF will be replaced by CRLF the next time Git touches it\n",
      "warning: in the working copy of 'Logger/.ipynb_checkpoints/Logger-checkpoint.ipynb', LF will be replaced by CRLF the next time Git touches it\n",
      "warning: in the working copy of 'Logger/Logger.ipynb', LF will be replaced by CRLF the next time Git touches it\n",
      "warning: in the working copy of 'Trainer.ipynb', LF will be replaced by CRLF the next time Git touches it\n",
      "warning: in the working copy of 'Validator.ipynb', LF will be replaced by CRLF the next time Git touches it\n",
      "warning: in the working copy of 'inges.ipynb', LF will be replaced by CRLF the next time Git touches it\n"
     ]
    }
   ],
   "source": [
    "!git add .\n"
   ]
  },
  {
   "cell_type": "code",
   "execution_count": 10,
   "id": "f66982ae-3656-4992-9881-3a1d2908e108",
   "metadata": {},
   "outputs": [
    {
     "name": "stderr",
     "output_type": "stream",
     "text": [
      "Author identity unknown\n",
      "\n",
      "*** Please tell me who you are.\n",
      "\n",
      "Run\n",
      "\n",
      "  git config --global user.email \"you@example.com\"\n",
      "  git config --global user.name \"Your Name\"\n",
      "\n",
      "to set your account's default identity.\n",
      "Omit --global to set the identity only in this repository.\n",
      "\n",
      "fatal: unable to auto-detect email address (got 'GMT@DESKTOP-V1917DP.(none)')\n"
     ]
    }
   ],
   "source": [
    "!git commit -m \"first version of my repo\"\n"
   ]
  },
  {
   "cell_type": "code",
   "execution_count": 11,
   "id": "28aed859-5fef-474a-baac-8b8a9b837855",
   "metadata": {},
   "outputs": [],
   "source": [
    "  !git config --global user.email \"syedafaqalinaqvi12@gmail.com\"\n",
    "  !git config --global user.name \"AfaqAli45\""
   ]
  },
  {
   "cell_type": "code",
   "execution_count": 13,
   "id": "52d3faa6-d2ef-4910-bf7e-c5e58b9ca752",
   "metadata": {},
   "outputs": [
    {
     "name": "stdout",
     "output_type": "stream",
     "text": [
      "[master (root-commit) dee2060] first version of my repo\n",
      " 14 files changed, 1941 insertions(+)\n",
      " create mode 100644 .ipynb_checkpoints/Init-checkpoint.ipynb\n",
      " create mode 100644 .ipynb_checkpoints/Trainer-checkpoint.ipynb\n",
      " create mode 100644 .ipynb_checkpoints/Validator-checkpoint.ipynb\n",
      " create mode 100644 .ipynb_checkpoints/heart-checkpoint.csv\n",
      " create mode 100644 .ipynb_checkpoints/inges-checkpoint.ipynb\n",
      " create mode 100644 Exception/.ipynb_checkpoints/Exception-checkpoint.ipynb\n",
      " create mode 100644 Exception/Exception.ipynb\n",
      " create mode 100644 Init.ipynb\n",
      " create mode 100644 Logger/.ipynb_checkpoints/Logger-checkpoint.ipynb\n",
      " create mode 100644 Logger/Logger.ipynb\n",
      " create mode 100644 Trainer.ipynb\n",
      " create mode 100644 Validator.ipynb\n",
      " create mode 100644 heart.csv\n",
      " create mode 100644 inges.ipynb\n"
     ]
    }
   ],
   "source": [
    "!git commit -m \"first version of my repo\""
   ]
  },
  {
   "cell_type": "code",
   "execution_count": 14,
   "id": "a495ebfb-e115-4a8a-acfc-9c93681af589",
   "metadata": {},
   "outputs": [
    {
     "name": "stderr",
     "output_type": "stream",
     "text": [
      "error: src refspec main does not match any\n",
      "error: failed to push some refs to 'origin'\n"
     ]
    }
   ],
   "source": [
    "!git push -u origin main\n"
   ]
  },
  {
   "cell_type": "code",
   "execution_count": 15,
   "id": "febde43c-bda8-4cd0-98bc-71ad9f9f822e",
   "metadata": {},
   "outputs": [
    {
     "name": "stdout",
     "output_type": "stream",
     "text": [
      "* master\n"
     ]
    }
   ],
   "source": [
    "!git branch"
   ]
  },
  {
   "cell_type": "code",
   "execution_count": 16,
   "id": "cebd5661-6260-4af2-8df0-e19ced046fdb",
   "metadata": {},
   "outputs": [
    {
     "name": "stderr",
     "output_type": "stream",
     "text": [
      "fatal: 'origin' does not appear to be a git repository\n",
      "fatal: Could not read from remote repository.\n",
      "\n",
      "Please make sure you have the correct access rights\n",
      "and the repository exists.\n"
     ]
    }
   ],
   "source": [
    "!git push -u origin master"
   ]
  },
  {
   "cell_type": "code",
   "execution_count": 17,
   "id": "e9c60cb0-fef3-4228-9504-43fee95e7a7b",
   "metadata": {},
   "outputs": [],
   "source": [
    "!git branch -M main\n"
   ]
  },
  {
   "cell_type": "code",
   "execution_count": 18,
   "id": "bd2f6f96-3636-4854-82b0-29ef619a3899",
   "metadata": {},
   "outputs": [
    {
     "name": "stderr",
     "output_type": "stream",
     "text": [
      "fatal: 'origin' does not appear to be a git repository\n",
      "fatal: Could not read from remote repository.\n",
      "\n",
      "Please make sure you have the correct access rights\n",
      "and the repository exists.\n"
     ]
    }
   ],
   "source": [
    "!git push -u origin main"
   ]
  },
  {
   "cell_type": "code",
   "execution_count": 19,
   "id": "87aa366f-b894-4cb0-9a43-b2d142503755",
   "metadata": {},
   "outputs": [],
   "source": [
    "!git remote -v\n"
   ]
  },
  {
   "cell_type": "code",
   "execution_count": 20,
   "id": "63b50e70-9419-48d8-bd1e-00ed52791acc",
   "metadata": {},
   "outputs": [
    {
     "name": "stderr",
     "output_type": "stream",
     "text": [
      "The syntax of the command is incorrect.\n"
     ]
    }
   ],
   "source": [
    "!git remote add origin <https://github.com/AfaqAli45/Heart-Disease-Predictor.git>\n"
   ]
  },
  {
   "cell_type": "code",
   "execution_count": 22,
   "id": "f884be7e-7a76-48a4-8eec-a46fc06fe2aa",
   "metadata": {},
   "outputs": [],
   "source": [
    "!git remote add origin https://github.com/AfaqAli45/Heart-Disease-Predictor.git\n"
   ]
  },
  {
   "cell_type": "code",
   "execution_count": 23,
   "id": "b7caf571-c6a4-4661-b63e-24d4bf58e081",
   "metadata": {},
   "outputs": [
    {
     "name": "stdout",
     "output_type": "stream",
     "text": [
      "origin\thttps://github.com/AfaqAli45/Heart-Disease-Predictor.git (fetch)\n",
      "origin\thttps://github.com/AfaqAli45/Heart-Disease-Predictor.git (push)\n"
     ]
    }
   ],
   "source": [
    "!git remote -v\n"
   ]
  },
  {
   "cell_type": "code",
   "execution_count": 24,
   "id": "e703207d-4ae3-4124-af1f-a8254f4b77a1",
   "metadata": {},
   "outputs": [
    {
     "name": "stdout",
     "output_type": "stream",
     "text": [
      "branch 'main' set up to track 'origin/main'.\n"
     ]
    },
    {
     "name": "stderr",
     "output_type": "stream",
     "text": [
      "To https://github.com/AfaqAli45/Heart-Disease-Predictor.git\n",
      " * [new branch]      main -> main\n"
     ]
    }
   ],
   "source": [
    "!git push -u origin main\n"
   ]
  },
  {
   "cell_type": "code",
   "execution_count": null,
   "id": "7449e2c6-eb4b-4a76-a3ea-697fa538f6fa",
   "metadata": {},
   "outputs": [],
   "source": []
  }
 ],
 "metadata": {
  "kernelspec": {
   "display_name": "Python 3 (ipykernel)",
   "language": "python",
   "name": "python3"
  },
  "language_info": {
   "codemirror_mode": {
    "name": "ipython",
    "version": 3
   },
   "file_extension": ".py",
   "mimetype": "text/x-python",
   "name": "python",
   "nbconvert_exporter": "python",
   "pygments_lexer": "ipython3",
   "version": "3.11.9"
  }
 },
 "nbformat": 4,
 "nbformat_minor": 5
}
