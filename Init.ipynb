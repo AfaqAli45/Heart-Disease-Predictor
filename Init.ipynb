{
 "cells": [
  {
   "cell_type": "code",
   "execution_count": 20,
   "id": "66a0842a-800e-4e1f-b38a-0b826aa3e25b",
   "metadata": {},
   "outputs": [
    {
     "name": "stdout",
     "output_type": "stream",
     "text": [
      "Reinitialized existing Git repository in D:/MACHINE_LEARNING_ALGORITHM/Projects of Machine Learnign/Heart Disease With MLOPS/.git/\n"
     ]
    },
    {
     "name": "stderr",
     "output_type": "stream",
     "text": [
      "warning: in the working copy of 'Init.ipynb', LF will be replaced by CRLF the next time Git touches it\n"
     ]
    },
    {
     "name": "stdout",
     "output_type": "stream",
     "text": [
      "On branch main\n",
      "Your branch is up to date with 'origin/main'.\n",
      "\n",
      "Changes to be committed:\n",
      "  (use \"git restore --staged <file>...\" to unstage)\n",
      "\tmodified:   Init.ipynb\n",
      "\n",
      "[main bbbe019] Third version of my repo\n",
      " 1 file changed, 90 insertions(+), 167 deletions(-)\n"
     ]
    },
    {
     "name": "stderr",
     "output_type": "stream",
     "text": [
      "error: remote origin already exists.\n"
     ]
    },
    {
     "name": "stdout",
     "output_type": "stream",
     "text": [
      "origin\thttps://github.com/AfaqAli45/Heart-Disease-Predictor.git (fetch)\n",
      "origin\thttps://github.com/AfaqAli45/Heart-Disease-Predictor.git (push)\n",
      "branch 'main' set up to track 'origin/main'.\n"
     ]
    },
    {
     "name": "stderr",
     "output_type": "stream",
     "text": [
      "To https://github.com/AfaqAli45/Heart-Disease-Predictor.git\n",
      "   739a9c9..bbbe019  main -> main\n"
     ]
    }
   ],
   "source": [
    "# Initialize Git (if not already done)\n",
    "!git init\n",
    "\n",
    "# Add all files to the staging area\n",
    "!git add .\n",
    "\n",
    "# Check the status of your repository\n",
    "!git status\n",
    "\n",
    "# Set your Git username and email (if not already done)\n",
    "!git config --global user.email \"syedafaqalinaqvi12@gmail.com\"\n",
    "!git config --global user.name \"AfaqAli45\"\n",
    "\n",
    "# Commit your changes\n",
    "!git commit -m \"Third version of my repo\"\n",
    "\n",
    "# Add the remote repository (if not already done)\n",
    "!git remote add origin https://github.com/AfaqAli45/Heart-Disease-Predictor.git\n",
    "\n",
    "# Verify the remote URL\n",
    "!git remote -v\n",
    "\n",
    "# # Pull remote changes and merge them into your local repository\n",
    "# !git pull origin main\n",
    "\n",
    "# Push your changes to the remote repository\n",
    "!git push -u origin main"
   ]
  },
  {
   "cell_type": "code",
   "execution_count": 21,
   "id": "3ba4bce3-c0fd-4274-9a67-602a4b86e3dc",
   "metadata": {},
   "outputs": [
    {
     "name": "stdout",
     "output_type": "stream",
     "text": [
      "On branch main\n",
      "Your branch is up to date with 'origin/main'.\n",
      "\n",
      "Changes not staged for commit:\n",
      "  (use \"git add <file>...\" to update what will be committed)\n",
      "  (use \"git restore <file>...\" to discard changes in working directory)\n",
      "\tmodified:   Init.ipynb\n",
      "\n",
      "no changes added to commit (use \"git add\" and/or \"git commit -a\")\n"
     ]
    }
   ],
   "source": [
    "!git status"
   ]
  },
  {
   "cell_type": "code",
   "execution_count": 22,
   "id": "e29ba8af-efb5-449c-ad49-012b1e71a0ae",
   "metadata": {},
   "outputs": [
    {
     "name": "stdout",
     "output_type": "stream",
     "text": [
      "Reinitialized existing Git repository in D:/MACHINE_LEARNING_ALGORITHM/Projects of Machine Learnign/Heart Disease With MLOPS/.git/\n"
     ]
    }
   ],
   "source": [
    "!git init"
   ]
  },
  {
   "cell_type": "code",
   "execution_count": null,
   "id": "ddb9edfb-156a-4bb0-80e8-8960399eb966",
   "metadata": {},
   "outputs": [],
   "source": []
  }
 ],
 "metadata": {
  "kernelspec": {
   "display_name": "Python 3 (ipykernel)",
   "language": "python",
   "name": "python3"
  },
  "language_info": {
   "codemirror_mode": {
    "name": "ipython",
    "version": 3
   },
   "file_extension": ".py",
   "mimetype": "text/x-python",
   "name": "python",
   "nbconvert_exporter": "python",
   "pygments_lexer": "ipython3",
   "version": "3.11.9"
  }
 },
 "nbformat": 4,
 "nbformat_minor": 5
}
