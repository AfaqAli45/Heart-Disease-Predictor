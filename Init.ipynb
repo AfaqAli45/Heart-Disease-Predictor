{
 "cells": [
  {
   "cell_type": "code",
   "execution_count": 19,
   "id": "66a0842a-800e-4e1f-b38a-0b826aa3e25b",
   "metadata": {},
   "outputs": [
    {
     "name": "stdout",
     "output_type": "stream",
     "text": [
      "Reinitialized existing Git repository in D:/MACHINE_LEARNING_ALGORITHM/Projects of Machine Learnign/Heart Disease With MLOPS/.git/\n"
     ]
    },
    {
     "name": "stderr",
     "output_type": "stream",
     "text": [
      "warning: in the working copy of 'Init.ipynb', LF will be replaced by CRLF the next time Git touches it\n"
     ]
    },
    {
     "name": "stdout",
     "output_type": "stream",
     "text": [
      "On branch main\n",
      "Your branch is ahead of 'origin/main' by 1 commit.\n",
      "  (use \"git push\" to publish your local commits)\n",
      "\n",
      "Changes to be committed:\n",
      "  (use \"git restore --staged <file>...\" to unstage)\n",
      "\tmodified:   Init.ipynb\n",
      "\n",
      "[main 193f9e2] Second version of my repo\n",
      " 1 file changed, 54 insertions(+), 239 deletions(-)\n"
     ]
    },
    {
     "name": "stderr",
     "output_type": "stream",
     "text": [
      "error: remote origin already exists.\n"
     ]
    },
    {
     "name": "stdout",
     "output_type": "stream",
     "text": [
      "origin\thttps://github.com/AfaqAli45/Heart-Disease-Predictor.git (fetch)\n",
      "origin\thttps://github.com/AfaqAli45/Heart-Disease-Predictor.git (push)\n",
      "Merge made by the 'ort' strategy.\n",
      " README.md | 17 +++++++++++++++++\n",
      " 1 file changed, 17 insertions(+)\n",
      " create mode 100644 README.md\n"
     ]
    },
    {
     "name": "stderr",
     "output_type": "stream",
     "text": [
      "From https://github.com/AfaqAli45/Heart-Disease-Predictor\n",
      " * branch            main       -> FETCH_HEAD\n",
      "   dee2060..f244623  main       -> origin/main\n"
     ]
    },
    {
     "name": "stdout",
     "output_type": "stream",
     "text": [
      "branch 'main' set up to track 'origin/main'.\n"
     ]
    },
    {
     "name": "stderr",
     "output_type": "stream",
     "text": [
      "To https://github.com/AfaqAli45/Heart-Disease-Predictor.git\n",
      "   f244623..739a9c9  main -> main\n"
     ]
    }
   ],
   "source": [
    "# Initialize Git (if not already done)\n",
    "!git init\n",
    "\n",
    "# Add all files to the staging area\n",
    "!git add .\n",
    "\n",
    "# Check the status of your repository\n",
    "!git status\n",
    "\n",
    "# Set your Git username and email (if not already done)\n",
    "!git config --global user.email \"syedafaqalinaqvi12@gmail.com\"\n",
    "!git config --global user.name \"AfaqAli45\"\n",
    "\n",
    "# Commit your changes\n",
    "!git commit -m \"Second version of my repo\"\n",
    "\n",
    "# Add the remote repository (if not already done)\n",
    "!git remote add origin https://github.com/AfaqAli45/Heart-Disease-Predictor.git\n",
    "\n",
    "# Verify the remote URL\n",
    "!git remote -v\n",
    "\n",
    "# Pull remote changes and merge them into your local repository\n",
    "!git pull origin main\n",
    "\n",
    "# Push your changes to the remote repository\n",
    "!git push -u origin main"
   ]
  },
  {
   "cell_type": "code",
   "execution_count": null,
   "id": "3ba4bce3-c0fd-4274-9a67-602a4b86e3dc",
   "metadata": {},
   "outputs": [],
   "source": []
  }
 ],
 "metadata": {
  "kernelspec": {
   "display_name": "Python 3 (ipykernel)",
   "language": "python",
   "name": "python3"
  },
  "language_info": {
   "codemirror_mode": {
    "name": "ipython",
    "version": 3
   },
   "file_extension": ".py",
   "mimetype": "text/x-python",
   "name": "python",
   "nbconvert_exporter": "python",
   "pygments_lexer": "ipython3",
   "version": "3.11.9"
  }
 },
 "nbformat": 4,
 "nbformat_minor": 5
}
