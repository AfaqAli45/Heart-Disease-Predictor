{
 "cells": [
  {
   "cell_type": "code",
   "execution_count": 1,
   "id": "66a0842a-800e-4e1f-b38a-0b826aa3e25b",
   "metadata": {},
   "outputs": [
    {
     "ename": "SyntaxError",
     "evalue": "invalid syntax (2328807610.py, line 1)",
     "output_type": "error",
     "traceback": [
      "  \u001b[36mCell\u001b[39m\u001b[36m \u001b[39m\u001b[32mIn[1]\u001b[39m\u001b[32m, line 1\u001b[39m\n\u001b[31m    \u001b[39m\u001b[31mgit inti\u001b[39m\n        ^\n\u001b[31mSyntaxError\u001b[39m\u001b[31m:\u001b[39m invalid syntax\n"
     ]
    }
   ],
   "source": [
    "git inti"
   ]
  },
  {
   "cell_type": "code",
   "execution_count": 2,
   "id": "4da0759e-de99-4df6-80ce-edc5ea5d1297",
   "metadata": {},
   "outputs": [
    {
     "name": "stdout",
     "output_type": "stream",
     "text": [
      "Initialized empty Git repository in D:/MACHINE_LEARNING_ALGORITHM/Projects of Machine Learnign/Heart Disease With MLOPS/.git/\n"
     ]
    }
   ],
   "source": [
    "!git init"
   ]
  },
  {
   "cell_type": "code",
   "execution_count": 3,
   "id": "21e55c04-835c-4a33-a149-933117d96fa9",
   "metadata": {},
   "outputs": [
    {
     "name": "stderr",
     "output_type": "stream",
     "text": [
      "warning: in the working copy of '.ipynb_checkpoints/Init-checkpoint.ipynb', LF will be replaced by CRLF the next time Git touches it\n",
      "warning: in the working copy of '.ipynb_checkpoints/Trainer-checkpoint.ipynb', LF will be replaced by CRLF the next time Git touches it\n",
      "warning: in the working copy of '.ipynb_checkpoints/Validator-checkpoint.ipynb', LF will be replaced by CRLF the next time Git touches it\n",
      "warning: in the working copy of '.ipynb_checkpoints/inges-checkpoint.ipynb', LF will be replaced by CRLF the next time Git touches it\n",
      "warning: in the working copy of 'Exception/.ipynb_checkpoints/Exception-checkpoint.ipynb', LF will be replaced by CRLF the next time Git touches it\n",
      "warning: in the working copy of 'Exception/Exception.ipynb', LF will be replaced by CRLF the next time Git touches it\n",
      "error: 'Heart-Disease-Predictor/' does not have a commit checked out\n",
      "fatal: adding files failed\n"
     ]
    }
   ],
   "source": [
    "!git add ."
   ]
  },
  {
   "cell_type": "code",
   "execution_count": 4,
   "id": "180a705a-7834-46f2-a3fc-9fa2f0aee9cc",
   "metadata": {},
   "outputs": [
    {
     "name": "stdout",
     "output_type": "stream",
     "text": [
      "On branch master\n",
      "\n",
      "No commits yet\n",
      "\n",
      "Untracked files:\n",
      "  (use \"git add <file>...\" to include in what will be committed)\n",
      "\t.ipynb_checkpoints/\n",
      "\tException/\n",
      "\tHeart-Disease-Predictor/\n",
      "\tInit.ipynb\n",
      "\tLogger/\n",
      "\tTrainer.ipynb\n",
      "\tValidator.ipynb\n",
      "\theart.csv\n",
      "\tinges.ipynb\n",
      "\n",
      "nothing added to commit but untracked files present (use \"git add\" to track)\n"
     ]
    }
   ],
   "source": [
    "!git status"
   ]
  },
  {
   "cell_type": "code",
   "execution_count": 5,
   "id": "0a3581cd-5fcc-4fdd-9910-0afe6889da10",
   "metadata": {},
   "outputs": [
    {
     "name": "stderr",
     "output_type": "stream",
     "text": [
      "warning: in the working copy of '.ipynb_checkpoints/Init-checkpoint.ipynb', LF will be replaced by CRLF the next time Git touches it\n",
      "warning: in the working copy of '.ipynb_checkpoints/Trainer-checkpoint.ipynb', LF will be replaced by CRLF the next time Git touches it\n",
      "warning: in the working copy of '.ipynb_checkpoints/Validator-checkpoint.ipynb', LF will be replaced by CRLF the next time Git touches it\n",
      "warning: in the working copy of '.ipynb_checkpoints/inges-checkpoint.ipynb', LF will be replaced by CRLF the next time Git touches it\n",
      "warning: in the working copy of 'Exception/.ipynb_checkpoints/Exception-checkpoint.ipynb', LF will be replaced by CRLF the next time Git touches it\n",
      "warning: in the working copy of 'Exception/Exception.ipynb', LF will be replaced by CRLF the next time Git touches it\n",
      "error: 'Heart-Disease-Predictor/' does not have a commit checked out\n",
      "fatal: adding files failed\n"
     ]
    }
   ],
   "source": [
    "!git add .\n"
   ]
  },
  {
   "cell_type": "code",
   "execution_count": 6,
   "id": "f66982ae-3656-4992-9881-3a1d2908e108",
   "metadata": {},
   "outputs": [],
   "source": [
    "!git submodule status\n"
   ]
  },
  {
   "cell_type": "code",
   "execution_count": null,
   "id": "28aed859-5fef-474a-baac-8b8a9b837855",
   "metadata": {},
   "outputs": [],
   "source": []
  }
 ],
 "metadata": {
  "kernelspec": {
   "display_name": "Python 3 (ipykernel)",
   "language": "python",
   "name": "python3"
  },
  "language_info": {
   "codemirror_mode": {
    "name": "ipython",
    "version": 3
   },
   "file_extension": ".py",
   "mimetype": "text/x-python",
   "name": "python",
   "nbconvert_exporter": "python",
   "pygments_lexer": "ipython3",
   "version": "3.11.9"
  }
 },
 "nbformat": 4,
 "nbformat_minor": 5
}
