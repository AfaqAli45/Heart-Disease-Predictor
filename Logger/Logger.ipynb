{
 "cells": [
  {
   "cell_type": "code",
   "execution_count": null,
   "id": "839d6f74-54e0-42cf-bb1c-a56f215a2f9c",
   "metadata": {},
   "outputs": [],
   "source": []
  }
 ],
 "metadata": {
  "kernelspec": {
   "display_name": "",
   "name": ""
  },
  "language_info": {
   "name": ""
  }
 },
 "nbformat": 4,
 "nbformat_minor": 5
}
